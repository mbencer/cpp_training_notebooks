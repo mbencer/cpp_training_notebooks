{
 "cells": [
  {
   "cell_type": "markdown",
   "id": "59736407-b011-4268-b720-d2949fcb950c",
   "metadata": {},
   "source": [
    "Some common headers"
   ]
  },
  {
   "cell_type": "code",
   "execution_count": 1,
   "id": "c752e47b-b1f8-4b96-88c2-177efc1ef3c5",
   "metadata": {
    "tags": []
   },
   "outputs": [],
   "source": [
    "#include <exception> // std::runtime_error\n",
    "#include <iostream> // std::cout\n",
    "#include <memory> // smart pointers\n",
    "#include <string> // std::string\n",
    "#pragma clang diagnostic push\n",
    "#pragma clang diagnostic ignored \"-Wnonnull\" // allow to pass nullptrs"
   ]
  },
  {
   "cell_type": "markdown",
   "id": "f9e08d8a-97d2-4b27-8381-f9eb0f71de60",
   "metadata": {
    "tags": []
   },
   "source": [
    "## 1. Example of problem with manual memory management"
   ]
  },
  {
   "cell_type": "code",
   "execution_count": 2,
   "id": "866e68c4-6436-4e98-893b-266d5b07c94b",
   "metadata": {
    "tags": []
   },
   "outputs": [
    {
     "ename": "Standard Exception",
     "evalue": "oopps, sth goes wrong",
     "output_type": "error",
     "traceback": [
      "Standard Exception: oopps, sth goes wrong"
     ]
    }
   ],
   "source": [
    "{\n",
    "struct Foo{\n",
    "    void calculate() {\n",
    "        throw std::runtime_error(\"oopps, sth goes wrong\");\n",
    "    }\n",
    "    std::string result() {return \"result of Foo\";}\n",
    "};\n",
    "\n",
    "Foo* foo = new Foo();\n",
    "foo->calculate();\n",
    "std::cout << foo->result() << std::endl;\n",
    "delete foo;\n",
    "}"
   ]
  },
  {
   "cell_type": "markdown",
   "id": "01b585a8-c863-44ca-b89f-6d79e22f1d37",
   "metadata": {},
   "source": [
    "<span style=\"color:red\">**Memory handled by foo is never released - memory leak**"
   ]
  },
  {
   "cell_type": "markdown",
   "id": "ed5a1d14-8151-43ff-986a-f28429f0ea8f",
   "metadata": {},
   "source": [
    "### 1a. we can of caurse try to catch an exception"
   ]
  },
  {
   "cell_type": "code",
   "execution_count": 3,
   "id": "a320a518-80b2-43b0-8b19-2481826ca4e3",
   "metadata": {},
   "outputs": [],
   "source": [
    "{\n",
    "struct Foo{\n",
    "    void calculate() {\n",
    "        throw std::runtime_error(\"oopps, sth goes wrong\");\n",
    "    }\n",
    "    std::string result() {return \"result of Foo\";}\n",
    "};\n",
    "\n",
    "Foo* foo = new Foo();\n",
    "try {\n",
    "    foo->calculate();\n",
    "} catch (...) {\n",
    "    delete foo;\n",
    "    return;\n",
    "}\n",
    "std::cout << foo->result() << std::endl;\n",
    "delete foo;\n",
    "}"
   ]
  },
  {
   "cell_type": "markdown",
   "id": "7b50daeb-d913-4ebc-bd11-64f6c05b3577",
   "metadata": {},
   "source": [
    "- it causes code duplication\n",
    "- the code is more unreadable\n",
    "- very often it's hard to handle all possible paths\n",
    "- some problems can be resolved by custom RAII impl (resource acqusition is initialization)"
   ]
  },
  {
   "cell_type": "markdown",
   "id": "cdddb199-1a86-4f33-8f5b-2124a8542e95",
   "metadata": {},
   "source": [
    "## 2. Smart pointers:\n",
    "- memory management of objects allocated on heap\n",
    "- responsible for calling delete\n",
    "- clear ownership\n",
    "- overloaded opeartor* and operator-> provide usage similar to raw pointers"
   ]
  },
  {
   "cell_type": "markdown",
   "id": "35ed9ca0-4157-4551-ac96-9c9a2abd7173",
   "metadata": {},
   "source": [
    "### 2a. Unique Pointer"
   ]
  },
  {
   "cell_type": "code",
   "execution_count": 5,
   "id": "5a15935e-9390-45c4-895c-2df9ab8711d2",
   "metadata": {
    "tags": []
   },
   "outputs": [
    {
     "ename": "Standard Exception",
     "evalue": "oopps, sth goes wrong",
     "output_type": "error",
     "traceback": [
      "Standard Exception: oopps, sth goes wrong"
     ]
    }
   ],
   "source": [
    "{\n",
    "struct Foo{\n",
    "    void calculate() {\n",
    "        throw std::runtime_error(\"oopps, sth goes wrong\");\n",
    "    }\n",
    "    std::string result() {return \"result of Foo\";}\n",
    "};\n",
    "\n",
    "auto foo = std::make_unique<Foo>();\n",
    "foo->calculate();\n",
    "std::cout << foo->result() << std::endl;\n",
    "} // Foo memmory is released despite exception"
   ]
  },
  {
   "cell_type": "markdown",
   "id": "80373ed1-77e1-45a6-b30f-ddb7d48ff47f",
   "metadata": {
    "tags": []
   },
   "source": [
    "- unique pointer cannot be copied or assigned, only moving is allowed\n",
    "- it means that allocated object can be pointed by **only one unique_ptr**"
   ]
  },
  {
   "cell_type": "code",
   "execution_count": 6,
   "id": "540d45af-cae8-4701-9390-4a202b15da59",
   "metadata": {
    "tags": []
   },
   "outputs": [],
   "source": [
    "struct A {\n",
    "    int calculate() {return 44;}\n",
    "};"
   ]
  },
  {
   "cell_type": "code",
   "execution_count": 7,
   "id": "4ce33eaa-e931-418a-8c21-b9f18cad8a1e",
   "metadata": {
    "tags": []
   },
   "outputs": [
    {
     "ename": "Interpreter Exception",
     "evalue": "",
     "output_type": "error",
     "traceback": [
      "Interpreter Exception: "
     ]
    }
   ],
   "source": [
    "void foo_processing(std::unique_ptr<A> a) {\n",
    "    a->calculate();\n",
    "}\n",
    "\n",
    "auto a = std::make_unique<A>();\n",
    "foo_processing(std::move(a));\n",
    "std::cout << a->calculate() << std::endl; // a is nullptr in this moment, the exception is thrown"
   ]
  },
  {
   "cell_type": "markdown",
   "id": "fc5fc50e-5a34-4c2b-8d96-49a46fb08f9d",
   "metadata": {},
   "source": [
    "so it should be (but rather doesn't make a sense):"
   ]
  },
  {
   "cell_type": "code",
   "execution_count": 8,
   "id": "3ff70dec-aa5a-4bab-a850-0256fe777e62",
   "metadata": {
    "tags": []
   },
   "outputs": [
    {
     "name": "stdout",
     "output_type": "stream",
     "text": [
      "44\n"
     ]
    }
   ],
   "source": [
    "std::unique_ptr<A> foo_processing(std::unique_ptr<A> a) {\n",
    "    a->calculate();\n",
    "    return std::move(a);\n",
    "}\n",
    "\n",
    "auto a = std::make_unique<A>();\n",
    "a = foo_processing(std::move(a));\n",
    "std::cout << a->calculate() << std::endl;"
   ]
  },
  {
   "cell_type": "markdown",
   "id": "853e2137-2a5f-48f2-8de4-5096f2341078",
   "metadata": {
    "tags": []
   },
   "source": [
    "<span style=\"color:blue\">Note that the smart pointer with base class type can point to the derived class object (similar to raw pointers/references)</span>"
   ]
  },
  {
   "cell_type": "code",
   "execution_count": 9,
   "id": "8be5f3c7-456d-4e20-a1a1-feebf5846a6a",
   "metadata": {
    "tags": []
   },
   "outputs": [
    {
     "name": "stdout",
     "output_type": "stream",
     "text": [
      "I am from derived class \n"
     ]
    }
   ],
   "source": [
    "class Base {\n",
    "    public:\n",
    "    virtual void hello() {std::cout << \"I am from base class \\n\"; }\n",
    "    virtual ~Base() = default;\n",
    "};\n",
    "class Derived : public Base {\n",
    "    public:\n",
    "    void hello() override {std::cout << \"I am from derived class \\n\"; }\n",
    "};\n",
    "\n",
    "std::unique_ptr<Base> b = std::make_unique<Derived>();\n",
    "b->hello();"
   ]
  },
  {
   "cell_type": "markdown",
   "id": "ad03d367-ea38-4dc1-b1ff-18d7f644cea6",
   "metadata": {},
   "source": [
    "## 2b. shared pointers:\n",
    "We can have more than one pointers to the same allocated object.\n",
    "\n",
    "It's based on reference counters: \n",
    "- ctor initialize counter with 1\n",
    "- copy ctor, copy assignment operator increment counter\n",
    "- dtor decrement couter\n",
    "- if couter == 0, the memory is released"
   ]
  },
  {
   "cell_type": "code",
   "execution_count": 10,
   "id": "cc80357a-566f-4ef5-bb34-627b7dfe899e",
   "metadata": {
    "tags": []
   },
   "outputs": [
    {
     "name": "stdout",
     "output_type": "stream",
     "text": [
      "44\n"
     ]
    }
   ],
   "source": [
    "void foo_processing_shared(std::shared_ptr<A> a) { // counter=2\n",
    "    a->calculate();\n",
    "} // counter=1\n",
    "\n",
    "{\n",
    "auto a = std::make_shared<A>(); // counter=1\n",
    "foo_processing_shared(a);\n",
    "std::cout << a->calculate() << std::endl;\n",
    "} // counter=0, mememory is released"
   ]
  },
  {
   "cell_type": "code",
   "execution_count": null,
   "id": "a6d8ca0c-b95f-4667-a3ed-31c768436efa",
   "metadata": {},
   "outputs": [],
   "source": [
    "Note that shared_pointer is heavier and slower than unique_ptr"
   ]
  }
 ],
 "metadata": {
  "kernelspec": {
   "display_name": "C++17",
   "language": "C++17",
   "name": "xcpp17"
  },
  "language_info": {
   "codemirror_mode": "text/x-c++src",
   "file_extension": ".cpp",
   "mimetype": "text/x-c++src",
   "name": "c++",
   "version": "17"
  }
 },
 "nbformat": 4,
 "nbformat_minor": 5
}
